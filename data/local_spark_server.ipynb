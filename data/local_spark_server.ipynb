{
 "cells": [
  {
   "cell_type": "markdown",
   "metadata": {},
   "source": [
    "### Configuration\n",
    "\n",
    "```bash\n",
    "brew install apache-spark\n",
    "pip install pyspark\n",
    "```"
   ]
  },
  {
   "cell_type": "code",
   "execution_count": 15,
   "metadata": {},
   "outputs": [],
   "source": [
    "from pyspark.sql import SparkSession\n",
    "from pyspark.sql.functions import col, min, max, avg, count\n",
    "from pyspark.sql import SparkSession"
   ]
  },
  {
   "cell_type": "markdown",
   "metadata": {},
   "source": [
    "### First script to run in order to make the queries run"
   ]
  },
  {
   "cell_type": "code",
   "execution_count": 16,
   "metadata": {},
   "outputs": [],
   "source": [
    "# Create an entry point to the PySpark Application\n",
    "spark = SparkSession.builder \\\n",
    "      .master(\"local\") \\\n",
    "      .appName(\"SpotifyGenre\") \\\n",
    "      .getOrCreate()\n",
    "# master contains the URL of your remote spark instance or 'local'"
   ]
  },
  {
   "cell_type": "markdown",
   "metadata": {},
   "source": [
    "### Create the Schema"
   ]
  },
  {
   "cell_type": "code",
   "execution_count": 17,
   "metadata": {},
   "outputs": [],
   "source": [
    "from pyspark.sql.types import StructType, StructField, IntegerType, StringType, BooleanType, FloatType\n",
    "\n",
    "# Define the schema for your CSV data\n",
    "schemaSpotifyGenre = StructType([\n",
    "    StructField(\"id\", IntegerType(),True),\n",
    "    StructField(\"track_id\", StringType(), True),\n",
    "    StructField(\"artists\", StringType(), True),\n",
    "    StructField(\"album_name\", StringType(), True),\n",
    "    StructField(\"track_name\", StringType(), True),\n",
    "    StructField(\"popularity\", IntegerType(), True),\n",
    "    StructField(\"duration_ms\", IntegerType(), True),\n",
    "    StructField(\"explicit\", BooleanType(), True),\n",
    "    StructField(\"danceability\", FloatType(), True),\n",
    "    StructField(\"energy\", FloatType(), True),\n",
    "    StructField(\"key\", IntegerType(), True),\n",
    "    StructField(\"loudness\", FloatType(), True),\n",
    "    StructField(\"mode\", IntegerType(), True),\n",
    "    StructField(\"speechiness\", FloatType(), True),\n",
    "    StructField(\"acousticness\", FloatType(), True),\n",
    "    StructField(\"instrumentalness\", FloatType(), True),\n",
    "    StructField(\"liveness\", FloatType(), True),\n",
    "    StructField(\"valence\", FloatType(), True),\n",
    "    StructField(\"tempo\", FloatType(), True),\n",
    "    StructField(\"time_signature\", IntegerType(), True),\n",
    "    StructField(\"track_genre\", StringType(), True)\n",
    "])"
   ]
  },
  {
   "cell_type": "markdown",
   "metadata": {},
   "source": [
    "### Parse the Dataset"
   ]
  },
  {
   "cell_type": "code",
   "execution_count": null,
   "metadata": {},
   "outputs": [],
   "source": [
    "df = spark.read.csv('../data/spotify_tracks_genre.csv', header=True, schema=schemaSpotifyGenre)\n",
    "df.printSchema()\n",
    "# df.show()  # To display the first few rows of the dataframe"
   ]
  },
  {
   "cell_type": "markdown",
   "metadata": {},
   "source": [
    "### Python Query 1: Danceability Statistic for a Specific Author and Genre"
   ]
  },
  {
   "cell_type": "code",
   "execution_count": null,
   "metadata": {},
   "outputs": [],
   "source": [
    "# Filter for 'Bad Bunny' in the artist column and 'acoustic' in the genre column\n",
    "filtered_df = df.filter(\n",
    "    col(\"artists\").like(\"Bad Bunny\")\n",
    ")\n",
    "\n",
    "# Select the 'danceability' column and calculate the average, minimum, and maximum\n",
    "aggregated_df = filtered_df.agg(\n",
    "    avg(\"danceability\").alias(\"avg_danceability\"),\n",
    "    min(\"danceability\").alias(\"min_danceability\"),\n",
    "    max(\"danceability\").alias(\"max_danceability\")\n",
    ")\n",
    "\n",
    "# Show the results\n",
    "aggregated_df.show()"
   ]
  },
  {
   "cell_type": "markdown",
   "metadata": {},
   "source": [
    "### Python Query 2: Explicit Authors\n",
    "This query aims to find all the authors that have published at least an explicit song.\\\n",
    "They are then sorted by the number of explicit songs published."
   ]
  },
  {
   "cell_type": "code",
   "execution_count": null,
   "metadata": {},
   "outputs": [],
   "source": [
    "result = (\n",
    "    df.filter(col('explicit') == True)  # Filter for explicit songs\n",
    "    .groupBy('artists')  # Group by artists\n",
    "    .agg(count('track_id').alias('explicit_count'))  # Count the number of explicit songs for each artist\n",
    "    .orderBy(col('explicit_count').desc(), 'artists')  # Sort by explicit count in descending order, then alphabetically\n",
    ")\n",
    "\n",
    "result.show()"
   ]
  },
  {
   "cell_type": "markdown",
   "metadata": {},
   "source": [
    "### Python Query 3: Long and Soft Tracks"
   ]
  },
  {
   "cell_type": "code",
   "execution_count": null,
   "metadata": {},
   "outputs": [],
   "source": [
    "# Filter the DataFrame for tracks longer than 240000 milliseconds and with loudness less than -10.0 dB\n",
    "filtered_df = df.filter((col(\"duration_ms\") > 240000) & (col(\"loudness\") < -10.0))\n",
    "\n",
    "# Select the desired columns\n",
    "selected_df = filtered_df.select('track_id', 'artists', 'track_name', 'duration_ms', 'loudness')\n",
    "\n",
    "# Show the results\n",
    "selected_df.show()"
   ]
  },
  {
   "cell_type": "markdown",
   "metadata": {},
   "source": [
    "### Python Query 4: Best Danceable Dance Songs\n",
    "\n",
    "This query aims to find all the danceable songs that are not explicit.\\\n",
    "It only shows the songs that have a danceability that's more than 0.8.\n"
   ]
  },
  {
   "cell_type": "code",
   "execution_count": null,
   "metadata": {},
   "outputs": [],
   "source": [
    "genre = 'dance'  # Replace 'dance' with your desired genre\n",
    "\n",
    "result = (\n",
    "    df.filter(\n",
    "        (col('explicit') == False) & \n",
    "        (col('danceability') > 0.8) & \n",
    "        (col('track_genre').contains(genre))\n",
    "    )  # Filter for non-explicit dance songs with danceability > 0.8 and specific genre\n",
    "    .select('track_name', 'danceability')  # Select only 'track_name' and 'danceability' columns\n",
    "    .orderBy('danceability', ascending=False)  # Sort by danceability in descending order\n",
    ")\n",
    "\n",
    "result.show(truncate=False)"
   ]
  },
  {
   "cell_type": "markdown",
   "metadata": {},
   "source": [
    "### Python Query 5: Understated Upbeat Tracks"
   ]
  },
  {
   "cell_type": "code",
   "execution_count": null,
   "metadata": {},
   "outputs": [],
   "source": [
    "# Filter the DataFrame for tracks with popularity less than 40 and valence greater than 0.7\n",
    "filtered_df = df.filter((col(\"popularity\") < 40) & (col(\"popularity\") > 10) & (col(\"valence\") > 0.7))\n",
    "\n",
    "# Select the desired columns\n",
    "selected_df = filtered_df.select('track_name', 'artists', 'popularity', 'valence')\n",
    "\n",
    "# Show the results\n",
    "selected_df.show()"
   ]
  },
  {
   "cell_type": "markdown",
   "metadata": {},
   "source": [
    "### SQL Queries"
   ]
  },
  {
   "cell_type": "markdown",
   "metadata": {},
   "source": [
    "### SQL Query 1: Top 5 Longest Albums in Dataset\n",
    "This query aims to find the top 5 longest albums in the Dataset.\\\n",
    "At first the songs are grouped by their album name, then the duration time of each song is summed up.\\\n",
    "Then the top 5 are showed and sorted in a Descending order."
   ]
  },
  {
   "cell_type": "code",
   "execution_count": null,
   "metadata": {},
   "outputs": [],
   "source": [
    "# Register the DataFrame as a temporary SQL table\n",
    "df.createOrReplaceTempView(\"spotify_genre_table\")\n",
    "\n",
    "# SQL query to identify albums with the longest total duration\n",
    "sql_query = \"\"\"\n",
    "    SELECT album_name, SUM(duration_ms) AS total_duration\n",
    "    FROM spotify_genre_table\n",
    "    GROUP BY album_name\n",
    "    ORDER BY total_duration DESC\n",
    "    LIMIT 5\n",
    "\"\"\"\n",
    "\n",
    "# Execute the SQL query\n",
    "result = spark.sql(sql_query)\n",
    "\n",
    "result.show(truncate=False)"
   ]
  },
  {
   "cell_type": "markdown",
   "metadata": {},
   "source": [
    "### SQL Query 2: Highly Instrumental Tracks"
   ]
  },
  {
   "cell_type": "code",
   "execution_count": null,
   "metadata": {},
   "outputs": [],
   "source": [
    "# Register the DataFrame as a temporary table\n",
    "df.createOrReplaceTempView(\"tracks\")\n",
    "\n",
    "sql_query = \"\"\"\n",
    "    SELECT track_id, track_name, instrumentalness, speechiness\n",
    "    FROM tracks\n",
    "    WHERE instrumentalness > 0.5 AND speechiness < 0.3\n",
    "\"\"\"\n",
    "\n",
    "# Execute the SQL query\n",
    "result = spark.sql(sql_query)\n",
    "\n",
    "result.show()"
   ]
  },
  {
   "cell_type": "markdown",
   "metadata": {},
   "source": [
    "### SQL Query 3: Top 5 Popular Genres\n",
    "\n",
    "This query aims to find the top 5 genres by popularity.\\\n",
    "At first it groups all the songs by genre and computes the average popularity.\n",
    "Then genres are sorted by popularity in descending order."
   ]
  },
  {
   "cell_type": "code",
   "execution_count": null,
   "metadata": {},
   "outputs": [],
   "source": [
    "# Put query here FRUAH\n",
    "df.createOrReplaceTempView(\"spotify_genre_table\")\n",
    "\n",
    "# SQL query to identify albums with the longest total duration\n",
    "sql_query = \"\"\"\n",
    "    SELECT track_genre, AVG(popularity) AS avg_popularity\n",
    "    FROM spotify_genre_table\n",
    "    GROUP BY track_genre\n",
    "    ORDER BY avg_popularity DESC\n",
    "    LIMIT 5\n",
    "\"\"\"\n",
    "# Execute the SQL query\n",
    "result = spark.sql(sql_query)\n",
    "\n",
    "result.show(truncate=False)"
   ]
  }
 ],
 "metadata": {
  "kernelspec": {
   "display_name": ".venv",
   "language": "python",
   "name": "python3"
  },
  "language_info": {
   "codemirror_mode": {
    "name": "ipython",
    "version": 3
   },
   "file_extension": ".py",
   "mimetype": "text/x-python",
   "name": "python",
   "nbconvert_exporter": "python",
   "pygments_lexer": "ipython3",
   "version": "3.12.0"
  }
 },
 "nbformat": 4,
 "nbformat_minor": 2
}
