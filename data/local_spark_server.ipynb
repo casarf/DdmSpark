{
 "cells": [
  {
   "cell_type": "markdown",
   "metadata": {},
   "source": [
    "### Configuration\n",
    "\n",
    "```bash\n",
    "brew install apache-spark\n",
    "pip install pyspark\n",
    "```"
   ]
  },
  {
   "cell_type": "code",
   "execution_count": 74,
   "metadata": {},
   "outputs": [],
   "source": [
    "from pyspark.sql import SparkSession\n",
    "from pyspark.sql.functions import col, min, max, avg, count"
   ]
  },
  {
   "cell_type": "markdown",
   "metadata": {},
   "source": [
    "### First script to run in order to make the queries run"
   ]
  },
  {
   "cell_type": "code",
   "execution_count": 75,
   "metadata": {},
   "outputs": [],
   "source": [
    "# Create an entry point to the PySpark Application\n",
    "spark = SparkSession.builder \\\n",
    "      .master(\"local\") \\\n",
    "      .appName(\"SpotifyGenre\") \\\n",
    "      .getOrCreate()\n",
    "# master contains the URL of your remote spark instance or 'local'"
   ]
  },
  {
   "cell_type": "markdown",
   "metadata": {},
   "source": [
    "### Create the Schema"
   ]
  },
  {
   "cell_type": "code",
   "execution_count": 76,
   "metadata": {},
   "outputs": [],
   "source": [
    "from pyspark.sql.types import StructType, StructField, IntegerType, StringType, BooleanType, FloatType\n",
    "\n",
    "# Define the schema for your CSV data\n",
    "schemaSpotifyGenre = StructType([\n",
    "    StructField(\"id\", IntegerType(),True),\n",
    "    StructField(\"track_id\", StringType(), True),\n",
    "    StructField(\"artists\", StringType(), True),\n",
    "    StructField(\"track_name\", StringType(), True),\n",
    "    StructField(\"album_name\", StringType(), True),\n",
    "    StructField(\"popularity\", IntegerType(), True),\n",
    "    StructField(\"duration_ms\", IntegerType(), True),\n",
    "    StructField(\"explicit\", BooleanType(), True),\n",
    "    StructField(\"danceability\", FloatType(), True),\n",
    "    StructField(\"energy\", FloatType(), True),\n",
    "    StructField(\"key\", IntegerType(), True),\n",
    "    StructField(\"loudness\", FloatType(), True),\n",
    "    StructField(\"mode\", IntegerType(), True),\n",
    "    StructField(\"speechiness\", FloatType(), True),\n",
    "    StructField(\"acousticness\", FloatType(), True),\n",
    "    StructField(\"instrumentalness\", FloatType(), True),\n",
    "    StructField(\"liveness\", FloatType(), True),\n",
    "    StructField(\"valence\", FloatType(), True),\n",
    "    StructField(\"tempo\", FloatType(), True),\n",
    "    StructField(\"time_signature\", IntegerType(), True),\n",
    "    StructField(\"track_genre\", StringType(), True)\n",
    "])"
   ]
  },
  {
   "cell_type": "markdown",
   "metadata": {},
   "source": [
    "### Parse the Dataset"
   ]
  },
  {
   "cell_type": "code",
   "execution_count": 77,
   "metadata": {},
   "outputs": [
    {
     "name": "stdout",
     "output_type": "stream",
     "text": [
      "root\n",
      " |-- id: integer (nullable = true)\n",
      " |-- track_id: string (nullable = true)\n",
      " |-- artists: string (nullable = true)\n",
      " |-- track_name: string (nullable = true)\n",
      " |-- album_name: string (nullable = true)\n",
      " |-- popularity: integer (nullable = true)\n",
      " |-- duration_ms: integer (nullable = true)\n",
      " |-- explicit: boolean (nullable = true)\n",
      " |-- danceability: float (nullable = true)\n",
      " |-- energy: float (nullable = true)\n",
      " |-- key: integer (nullable = true)\n",
      " |-- loudness: float (nullable = true)\n",
      " |-- mode: integer (nullable = true)\n",
      " |-- speechiness: float (nullable = true)\n",
      " |-- acousticness: float (nullable = true)\n",
      " |-- instrumentalness: float (nullable = true)\n",
      " |-- liveness: float (nullable = true)\n",
      " |-- valence: float (nullable = true)\n",
      " |-- tempo: float (nullable = true)\n",
      " |-- time_signature: integer (nullable = true)\n",
      " |-- track_genre: string (nullable = true)\n",
      "\n"
     ]
    }
   ],
   "source": [
    "df = spark.read.csv('./data/spotify_tracks_genre.csv', header=True, schema=schemaSpotifyGenre)\n",
    "df.printSchema()\n",
    "# df.show()  # To display the first few rows of the dataframe"
   ]
  },
  {
   "cell_type": "markdown",
   "metadata": {},
   "source": [
    "### Python Query 1: Danceability Statistic for a Specific Author and Genre"
   ]
  },
  {
   "cell_type": "code",
   "execution_count": 66,
   "metadata": {},
   "outputs": [
    {
     "name": "stdout",
     "output_type": "stream",
     "text": [
      "+----------------+----------------+----------------+\n",
      "|avg_danceability|min_danceability|max_danceability|\n",
      "+----------------+----------------+----------------+\n",
      "|            NULL|            NULL|            NULL|\n",
      "+----------------+----------------+----------------+\n",
      "\n"
     ]
    }
   ],
   "source": [
    "# Filter for 'Jason Mraz' in the artist column and 'acoustic' in the genre column\n",
    "filtered_df = df.filter(\n",
    "    (col(\"artists\").like(\"Bad Bunny\")) & \n",
    "    (col(\"track_genre\") == \"acoustic\")\n",
    ")\n",
    "\n",
    "# Select the 'danceability' column and calculate the average, minimum, and maximum\n",
    "aggregated_df = filtered_df.agg(\n",
    "    avg(\"danceability\").alias(\"avg_danceability\"),\n",
    "    min(\"danceability\").alias(\"min_danceability\"),\n",
    "    max(\"danceability\").alias(\"max_danceability\")\n",
    ")\n",
    "\n",
    "# Show the results\n",
    "aggregated_df.show()\n",
    "\n",
    "# Stop the SparkSession\n",
    "spark.stop()"
   ]
  },
  {
   "cell_type": "markdown",
   "metadata": {},
   "source": [
    "### Python Query 2: Explicit Authors\n",
    "This query aims to find all the authors that have published at least an explicit song.\\\n",
    "They are then sorted by the number of explicit songs published."
   ]
  },
  {
   "cell_type": "code",
   "execution_count": 78,
   "metadata": {},
   "outputs": [
    {
     "name": "stdout",
     "output_type": "stream",
     "text": [
      "+--------------------+--------------+\n",
      "|             artists|explicit_count|\n",
      "+--------------------+--------------+\n",
      "|         Jack Harlow|            71|\n",
      "|    Jhayco;Bad Bunny|            64|\n",
      "|      Marilyn Manson|            61|\n",
      "|        XXXTENTACION|            59|\n",
      "|Daddy Yankee;Bad ...|            58|\n",
      "|         Vybz Kartel|            54|\n",
      "|             Asspera|            51|\n",
      "|              Jhayco|            46|\n",
      "|     Alejo;Feid;ROBI|            44|\n",
      "|                Feid|            43|\n",
      "|                 Jax|            38|\n",
      "|Five Finger Death...|            37|\n",
      "|Bring Me The Horizon|            36|\n",
      "|Chris Jedi;Anuel ...|            33|\n",
      "|             KAROL G|            33|\n",
      "|             Pantera|            32|\n",
      "|           blink-182|            32|\n",
      "|         Chronic Law|            31|\n",
      "|          Burgerkill|            29|\n",
      "|    Kathleen Madigan|            29|\n",
      "+--------------------+--------------+\n",
      "only showing top 20 rows\n",
      "\n"
     ]
    }
   ],
   "source": [
    "result = (\n",
    "    df.filter(col('explicit') == True)  # Filter for explicit songs\n",
    "    .groupBy('artists')  # Group by artists\n",
    "    .agg(count('track_id').alias('explicit_count'))  # Count the number of explicit songs for each artist\n",
    "    .orderBy(col('explicit_count').desc(), 'artists')  # Sort by explicit count in descending order, then alphabetically\n",
    ")\n",
    "\n",
    "result.show()"
   ]
  },
  {
   "cell_type": "markdown",
   "metadata": {},
   "source": [
    "### Python Query 3: Query Name"
   ]
  },
  {
   "cell_type": "code",
   "execution_count": null,
   "metadata": {},
   "outputs": [],
   "source": [
    "# Put query here LOLLO"
   ]
  },
  {
   "cell_type": "markdown",
   "metadata": {},
   "source": [
    "### Python Query 4: Best Danceable Dance Songs\n",
    "\n",
    "This query aims to find all the danceable songs that are not explicit.\\\n",
    "It only shows the songs that have a danceability that's more than 0.8.\n"
   ]
  },
  {
   "cell_type": "code",
   "execution_count": 79,
   "metadata": {},
   "outputs": [
    {
     "name": "stdout",
     "output_type": "stream",
     "text": [
      "+--------------------------------+------------+\n",
      "|track_name                      |danceability|\n",
      "+--------------------------------+------------+\n",
      "|Mentally Free                   |0.975       |\n",
      "|Afrowave 2                      |0.966       |\n",
      "|Queda poco para la PAES         |0.965       |\n",
      "|King of Parole                  |0.961       |\n",
      "|Loaded                          |0.961       |\n",
      "|Money Dance                     |0.958       |\n",
      "|The Trinity                     |0.951       |\n",
      "|The Trinity                     |0.951       |\n",
      "|Temperature                     |0.951       |\n",
      "|The Trinity                     |0.95        |\n",
      "|No Reservations                 |0.948       |\n",
      "|Bunx Up (feat. Marcy Chin)      |0.947       |\n",
      "|Bunx Up [The Official Street LP]|0.944       |\n",
      "|Banga                           |0.943       |\n",
      "|Find It                         |0.94        |\n",
      "|Play Tune (So so So)            |0.935       |\n",
      "|Pa' mayores de edad             |0.931       |\n",
      "|Retro 13 (Special Dj Greg C)    |0.931       |\n",
      "|Yahoo Boyz                      |0.931       |\n",
      "|Fatty Boom Boom (Boom It!)      |0.928       |\n",
      "+--------------------------------+------------+\n",
      "only showing top 20 rows\n",
      "\n"
     ]
    },
    {
     "name": "stderr",
     "output_type": "stream",
     "text": [
      "23/12/15 16:14:10 WARN CSVHeaderChecker: CSV header does not conform to the schema.\n",
      " Header: album_name, explicit, danceability, track_genre\n",
      " Schema: track_name, explicit, danceability, track_genre\n",
      "Expected: track_name but found: album_name\n",
      "CSV file: file:///Users/casarf/Documents/USI/Master/semester1/DataDesign/assignment3/spark_sus/data/spotify_tracks_genre.csv\n"
     ]
    }
   ],
   "source": [
    "genre = 'dance'  # Replace 'dance' with your desired genre\n",
    "\n",
    "result = (\n",
    "    df.filter(\n",
    "        (col('explicit') == False) & \n",
    "        (col('danceability') > 0.8) & \n",
    "        (col('track_genre').contains(genre))\n",
    "    )  # Filter for non-explicit dance songs with danceability > 0.8 and specific genre\n",
    "    .select('track_name', 'danceability')  # Select only 'track_name' and 'danceability' columns\n",
    "    .orderBy('danceability', ascending=False)  # Sort by danceability in descending order\n",
    ")\n",
    "\n",
    "result.show(truncate=False)"
   ]
  },
  {
   "cell_type": "markdown",
   "metadata": {},
   "source": [
    "### Python Query 5: Query Name"
   ]
  },
  {
   "cell_type": "code",
   "execution_count": null,
   "metadata": {},
   "outputs": [],
   "source": [
    "# Put query here LOLLO"
   ]
  },
  {
   "cell_type": "markdown",
   "metadata": {},
   "source": [
    "### SQL Queries"
   ]
  },
  {
   "cell_type": "markdown",
   "metadata": {},
   "source": [
    "### SQL Query 1: Top 5 Longest Albums in Dataset\n",
    "This query aims to find the top 5 longest albums in the Dataset.\\\n",
    "At first the songs are grouped by their album name, then the duration time of each song is summed up.\\\n",
    "Then the top 5 are showed and sorted in a Descending order."
   ]
  },
  {
   "cell_type": "code",
   "execution_count": 80,
   "metadata": {},
   "outputs": [
    {
     "name": "stderr",
     "output_type": "stream",
     "text": [
      "23/12/15 16:14:13 WARN CSVHeaderChecker: CSV header does not conform to the schema.\n",
      " Header: track_name, duration_ms\n",
      " Schema: album_name, duration_ms\n",
      "Expected: album_name but found: track_name\n",
      "CSV file: file:///Users/casarf/Documents/USI/Master/semester1/DataDesign/assignment3/spark_sus/data/spotify_tracks_genre.csv\n"
     ]
    },
    {
     "name": "stdout",
     "output_type": "stream",
     "text": [
      "+----------------------+--------------+\n",
      "|album_name            |total_duration|\n",
      "+----------------------+--------------+\n",
      "|Run Rudolph Run       |24605335      |\n",
      "|Christmas Time        |16785840      |\n",
      "|Halloween             |16031062      |\n",
      "|RUMBATÓN              |14926080      |\n",
      "|CÓMO SE SIENTE - Remix|14561280      |\n",
      "+----------------------+--------------+\n",
      "\n"
     ]
    }
   ],
   "source": [
    "from pyspark.sql import SparkSession\n",
    "\n",
    "# Register the DataFrame as a temporary SQL table\n",
    "df.createOrReplaceTempView(\"spotify_genre_table\")\n",
    "\n",
    "# SQL query to identify albums with the longest total duration\n",
    "sql_query = \"\"\"\n",
    "    SELECT album_name, SUM(duration_ms) AS total_duration\n",
    "    FROM spotify_genre_table\n",
    "    GROUP BY album_name\n",
    "    ORDER BY total_duration DESC\n",
    "    LIMIT 5\n",
    "\"\"\"\n",
    "\n",
    "# Execute the SQL query\n",
    "result = spark.sql(sql_query)\n",
    "\n",
    "result.show(truncate=False)"
   ]
  },
  {
   "cell_type": "markdown",
   "metadata": {},
   "source": [
    "### SQL Query 2: Query Name"
   ]
  },
  {
   "cell_type": "code",
   "execution_count": null,
   "metadata": {},
   "outputs": [],
   "source": [
    "# Put query here LOLLO"
   ]
  },
  {
   "cell_type": "markdown",
   "metadata": {},
   "source": [
    "### SQL Query 3: Top 5 Popular Genres\n",
    "\n",
    "This query aims to find the top 5 genres by popularity.\\\n",
    "At first it groups all the songs by genre and computes the average popularity.\n",
    "Then genres are sorted by popularity in descending order."
   ]
  },
  {
   "cell_type": "code",
   "execution_count": 81,
   "metadata": {},
   "outputs": [
    {
     "name": "stdout",
     "output_type": "stream",
     "text": [
      "+-----------+------------------+\n",
      "|track_genre|avg_popularity    |\n",
      "+-----------+------------------+\n",
      "|pop-film   |59.287575150300604|\n",
      "|k-pop      |56.896            |\n",
      "|chill      |53.651            |\n",
      "|sad        |52.379            |\n",
      "|grunge     |49.594            |\n",
      "+-----------+------------------+\n",
      "\n"
     ]
    }
   ],
   "source": [
    "# Put query here FRUAH\n",
    "df.createOrReplaceTempView(\"spotify_genre_table\")\n",
    "\n",
    "# SQL query to identify albums with the longest total duration\n",
    "sql_query = \"\"\"\n",
    "    SELECT track_genre, AVG(popularity) AS avg_popularity\n",
    "    FROM spotify_genre_table\n",
    "    GROUP BY track_genre\n",
    "    ORDER BY avg_popularity DESC\n",
    "    LIMIT 5\n",
    "\"\"\"\n",
    "# Execute the SQL query\n",
    "result = spark.sql(sql_query)\n",
    "\n",
    "result.show(truncate=False)\n"
   ]
  }
 ],
 "metadata": {
  "kernelspec": {
   "display_name": ".venv",
   "language": "python",
   "name": "python3"
  },
  "language_info": {
   "codemirror_mode": {
    "name": "ipython",
    "version": 3
   },
   "file_extension": ".py",
   "mimetype": "text/x-python",
   "name": "python",
   "nbconvert_exporter": "python",
   "pygments_lexer": "ipython3",
   "version": "3.11.6"
  }
 },
 "nbformat": 4,
 "nbformat_minor": 2
}
