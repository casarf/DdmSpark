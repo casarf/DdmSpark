{
 "cells": [
  {
   "cell_type": "markdown",
   "metadata": {},
   "source": [
    "### Configuration\n",
    "\n",
    "```bash\n",
    "brew install apache-spark\n",
    "pip install pyspark\n",
    "```"
   ]
  },
  {
   "cell_type": "code",
   "execution_count": 24,
   "metadata": {},
   "outputs": [],
   "source": [
    "from pyspark.sql import SparkSession\n",
    "from pyspark.sql.functions import col, min, max, avg"
   ]
  },
  {
   "cell_type": "markdown",
   "metadata": {},
   "source": [
    "### First script to run in order to make the queries run"
   ]
  },
  {
   "cell_type": "code",
   "execution_count": 18,
   "metadata": {},
   "outputs": [],
   "source": [
    "# Create an entry point to the PySpark Application\n",
    "spark = SparkSession.builder \\\n",
    "      .master(\"local\") \\\n",
    "      .appName(\"SpotifyGenre\") \\\n",
    "      .getOrCreate()\n",
    "# master contains the URL of your remote spark instance or 'local'"
   ]
  },
  {
   "cell_type": "markdown",
   "metadata": {},
   "source": [
    "### Create the Schema"
   ]
  },
  {
   "cell_type": "code",
   "execution_count": 42,
   "metadata": {},
   "outputs": [
    {
     "name": "stdout",
     "output_type": "stream",
     "text": [
      "root\n",
      " |-- id: integer (nullable = true)\n",
      " |-- track_id: string (nullable = true)\n",
      " |-- artists: string (nullable = true)\n",
      " |-- track_name: string (nullable = true)\n",
      " |-- album_name: string (nullable = true)\n",
      " |-- popularity: integer (nullable = true)\n",
      " |-- duration_ms: integer (nullable = true)\n",
      " |-- explicit: boolean (nullable = true)\n",
      " |-- danceability: float (nullable = true)\n",
      " |-- energy: float (nullable = true)\n",
      " |-- key: integer (nullable = true)\n",
      " |-- loudness: float (nullable = true)\n",
      " |-- mode: integer (nullable = true)\n",
      " |-- speechiness: float (nullable = true)\n",
      " |-- acousticness: float (nullable = true)\n",
      " |-- instrumentalness: float (nullable = true)\n",
      " |-- liveness: float (nullable = true)\n",
      " |-- valence: float (nullable = true)\n",
      " |-- tempo: float (nullable = true)\n",
      " |-- time_signature: integer (nullable = true)\n",
      " |-- track_genre: string (nullable = true)\n",
      "\n"
     ]
    }
   ],
   "source": [
    "from pyspark.sql.types import StructType, StructField, IntegerType, StringType, BooleanType, FloatType\n",
    "\n",
    "# Define the schema for your CSV data\n",
    "schemaSpotifyGenre = StructType([\n",
    "    StructField(\"id\", IntegerType(), True),\n",
    "    StructField(\"track_id\", StringType(), True),\n",
    "    StructField(\"artists\", StringType(), True),\n",
    "    StructField(\"track_name\", StringType(), True),\n",
    "    StructField(\"album_name\", StringType(), True),\n",
    "    StructField(\"popularity\", IntegerType(), True),\n",
    "    StructField(\"duration_ms\", IntegerType(), True),\n",
    "    StructField(\"explicit\", BooleanType(), True),\n",
    "    StructField(\"danceability\", FloatType(), True),\n",
    "    StructField(\"energy\", FloatType(), True),\n",
    "    StructField(\"key\", IntegerType(), True),\n",
    "    StructField(\"loudness\", FloatType(), True),\n",
    "    StructField(\"mode\", IntegerType(), True),\n",
    "    StructField(\"speechiness\", FloatType(), True),\n",
    "    StructField(\"acousticness\", FloatType(), True),\n",
    "    StructField(\"instrumentalness\", FloatType(), True),\n",
    "    StructField(\"liveness\", FloatType(), True),\n",
    "    StructField(\"valence\", FloatType(), True),\n",
    "    StructField(\"tempo\", FloatType(), True),\n",
    "    StructField(\"time_signature\", IntegerType(), True),\n",
    "    StructField(\"track_genre\", StringType(), True)\n",
    "])\n",
    "\n",
    "# Display the schema\n",
    "df.printSchema()"
   ]
  },
  {
   "cell_type": "markdown",
   "metadata": {},
   "source": [
    "### Parse the Dataset"
   ]
  },
  {
   "cell_type": "code",
   "execution_count": 20,
   "metadata": {},
   "outputs": [
    {
     "name": "stdout",
     "output_type": "stream",
     "text": [
      "+---+--------------------+--------------------+--------------------+--------------------+----------+-----------+--------+------------+------+---+--------+----+-----------+------------+----------------+--------+-------+-------+--------------+-----------+\n",
      "| id|            track_id|             artists|          track_name|          album_name|popularity|duration_ms|explicit|danceability|energy|key|loudness|mode|speechiness|acousticness|instrumentalness|liveness|valence|  tempo|time_signature|track_genre|\n",
      "+---+--------------------+--------------------+--------------------+--------------------+----------+-----------+--------+------------+------+---+--------+----+-----------+------------+----------------+--------+-------+-------+--------------+-----------+\n",
      "|  0|5SuOikwiRyPMVoIQD...|         Gen Hoshino|              Comedy|              Comedy|        73|     230666|   false|       0.676| 0.461|  1|  -6.746|   0|      0.143|      0.0322|         1.01E-6|   0.358|  0.715| 87.917|             4|   acoustic|\n",
      "|  1|4qPNDBW1i3p13qLCt...|        Ben Woodward|    Ghost (Acoustic)|    Ghost - Acoustic|        55|     149610|   false|        0.42| 0.166|  1| -17.235|   1|     0.0763|       0.924|         5.56E-6|   0.101|  0.267| 77.489|             4|   acoustic|\n",
      "|  2|1iJBSr7s7jYXzM8EG...|Ingrid Michaelson...|      To Begin Again|      To Begin Again|        57|     210826|   false|       0.438| 0.359|  0|  -9.734|   1|     0.0557|        0.21|             0.0|   0.117|   0.12| 76.332|             4|   acoustic|\n",
      "|  3|6lfxq3CG4xtTiEg7o...|        Kina Grannis|Crazy Rich Asians...|Can't Help Fallin...|        71|     201933|   false|       0.266|0.0596|  0| -18.515|   1|     0.0363|       0.905|         7.07E-5|   0.132|  0.143| 181.74|             3|   acoustic|\n",
      "|  4|5vjLSffimiIP26QG5...|    Chord Overstreet|             Hold On|             Hold On|        82|     198853|   false|       0.618| 0.443|  2|  -9.681|   1|     0.0526|       0.469|             0.0|  0.0829|  0.167|119.949|             4|   acoustic|\n",
      "|  5|01MVOl9KtVTNfFiBU...|        Tyrone Wells|Days I Will Remember|Days I Will Remember|        58|     214240|   false|       0.688| 0.481|  6|  -8.807|   1|      0.105|       0.289|             0.0|   0.189|  0.666| 98.017|             4|   acoustic|\n",
      "|  6|6Vc5wAMmXdKIAM7WU...|A Great Big World...|Is There Anybody ...|       Say Something|        74|     229400|   false|       0.407| 0.147|  2|  -8.822|   1|     0.0355|       0.857|         2.89E-6|  0.0913| 0.0765|141.284|             3|   acoustic|\n",
      "|  7|1EzrEOXmMH3G43AXT...|          Jason Mraz|We Sing. We Dance...|           I'm Yours|        80|     242946|   false|       0.703| 0.444| 11|  -9.331|   1|     0.0417|       0.559|             0.0|  0.0973|  0.712| 150.96|             4|   acoustic|\n",
      "|  8|0IktbUcnAGrvD03AW...|Jason Mraz;Colbie...|We Sing. We Dance...|               Lucky|        74|     189613|   false|       0.625| 0.414|  0|    -8.7|   1|     0.0369|       0.294|             0.0|   0.151|  0.669|130.088|             4|   acoustic|\n",
      "|  9|7k9GuJYLp2AzqokyE...|      Ross Copperman|              Hunger|              Hunger|        56|     205594|   false|       0.442| 0.632|  1|   -6.77|   1|     0.0295|       0.426|         0.00419|  0.0735|  0.196| 78.899|             4|   acoustic|\n",
      "| 10|4mzP5mHkRvGxdhdGd...|        Zack Tabudlo|             Episode|Give Me Your Forever|        74|     244800|   false|       0.627| 0.363|  8|  -8.127|   1|     0.0291|       0.279|             0.0|  0.0928|  0.301| 99.905|             4|   acoustic|\n",
      "| 11|5ivF4eQBqJiVL5IAE...|          Jason Mraz|Love Is a Four Le...|     I Won't Give Up|        69|     240165|   false|       0.483| 0.303|  4| -10.058|   1|     0.0429|       0.694|             0.0|   0.115|  0.139|133.406|             3|   acoustic|\n",
      "| 12|4ptDJbJl35d7gQfeN...|            Dan Berk|                Solo|                Solo|        52|     198712|   false|       0.489| 0.314|  7|  -9.245|   0|     0.0331|       0.749|             0.0|   0.113|  0.607|124.234|             4|   acoustic|\n",
      "| 13|0X9MxHR1rTkEHDjp9...|       Anna Hamilton|            Bad Liar|            Bad Liar|        62|     248448|   false|       0.691| 0.234|  3|  -6.441|   1|     0.0285|       0.777|             0.0|    0.12|  0.209| 87.103|             4|   acoustic|\n",
      "| 14|4LbWtBkN82ZRhz9jq...|Chord Overstreet;...|     Hold On (Remix)|     Hold On - Remix|        56|     188133|   false|       0.755|  0.78|  2|  -6.084|   1|     0.0327|       0.124|         2.83E-5|   0.121|  0.387|120.004|             4|   acoustic|\n",
      "| 15|1KHdq8NK9QxnGjdXb...|         Landon Pigg|   The Boy Who Never|Falling in Love a...|        58|     244986|   false|       0.489| 0.561|  4|  -7.933|   1|     0.0274|         0.2|         4.56E-5|   0.179|  0.238| 83.457|             3|   acoustic|\n",
      "| 16|6xKeQgzfjixSUld14...|Andrew Foy;Renee Foy|ily (i love you b...|ily (i love you b...|        56|     129750|   false|       0.706| 0.112|  2| -18.098|   1|     0.0391|       0.827|         4.03E-6|   0.125|  0.414|110.154|             4|   acoustic|\n",
      "| 17|4Yo0igmcoNyat1sec...|Andrew Foy;Renee Foy|         At My Worst|         At My Worst|        54|     169728|   false|       0.795|0.0841| 10|  -18.09|   0|     0.0461|       0.742|         1.17E-5|  0.0853|  0.609| 91.803|             4|   acoustic|\n",
      "| 18|2qLMf6TuEC3ruGJg4...|Jason Mraz;Colbie...|We Sing. We Dance...|               Lucky|        68|     189613|   false|       0.625| 0.414|  0|    -8.7|   1|     0.0369|       0.294|             0.0|   0.151|  0.669|130.088|             4|   acoustic|\n",
      "| 19|6CgNoAbFJ4Q4Id4Ej...|Boyce Avenue;Bea ...|Cover Sessions, V...|          Photograph|        67|     260186|   false|       0.717|  0.32|  3|  -8.393|   1|     0.0283|        0.83|             0.0|   0.107|  0.322|107.946|             4|   acoustic|\n",
      "+---+--------------------+--------------------+--------------------+--------------------+----------+-----------+--------+------------+------+---+--------+----+-----------+------------+----------------+--------+-------+-------+--------------+-----------+\n",
      "only showing top 20 rows\n",
      "\n"
     ]
    },
    {
     "name": "stderr",
     "output_type": "stream",
     "text": [
      "23/12/15 12:03:26 WARN CSVHeaderChecker: CSV header does not conform to the schema.\n",
      " Header: Unnamed: 0, track_id, artists, album_name, track_name, popularity, duration_ms, explicit, danceability, energy, key, loudness, mode, speechiness, acousticness, instrumentalness, liveness, valence, tempo, time_signature, track_genre\n",
      " Schema: id, track_id, artists, track_name, album_name, popularity, duration_ms, explicit, danceability, energy, key, loudness, mode, speechiness, acousticness, instrumentalness, liveness, valence, tempo, time_signature, track_genre\n",
      "Expected: id but found: Unnamed: 0\n",
      "CSV file: file:///Users/casarf/Documents/USI/Master/semester1/DataDesign/assignment3/spark_sus/data/spotify_tracks_genre.csv\n"
     ]
    }
   ],
   "source": [
    "df = spark.read.csv('./data/spotify_tracks_genre.csv', header=True, schema=schemaSpotifyGenre)\n",
    "df.show()  # To display the first few rows of the dataframe"
   ]
  },
  {
   "cell_type": "markdown",
   "metadata": {},
   "source": [
    "### Python Query 1: Danceability Statistic for a Specific Author and Genre"
   ]
  },
  {
   "cell_type": "code",
   "execution_count": 26,
   "metadata": {},
   "outputs": [
    {
     "ename": "AssertionError",
     "evalue": "",
     "output_type": "error",
     "traceback": [
      "\u001b[0;31m---------------------------------------------------------------------------\u001b[0m",
      "\u001b[0;31mAssertionError\u001b[0m                            Traceback (most recent call last)",
      "\u001b[0;32m/var/folders/nb/v6hwbtfd1ggdknnx4b6qknzm0000gn/T/ipykernel_72518/3519437134.py\u001b[0m in \u001b[0;36m?\u001b[0;34m()\u001b[0m\n\u001b[1;32m      1\u001b[0m \u001b[0;31m# Filter for 'Jason Mraz' in the artist column and 'acoustic' in the genre column\u001b[0m\u001b[0;34m\u001b[0m\u001b[0;34m\u001b[0m\u001b[0m\n\u001b[1;32m      2\u001b[0m filtered_df = df.filter(\n\u001b[0;32m----> 3\u001b[0;31m     \u001b[0;34m(\u001b[0m\u001b[0mcol\u001b[0m\u001b[0;34m(\u001b[0m\u001b[0;34m\"artists\"\u001b[0m\u001b[0;34m)\u001b[0m\u001b[0;34m.\u001b[0m\u001b[0mlike\u001b[0m\u001b[0;34m(\u001b[0m\u001b[0;34m\"Bad Bunny\"\u001b[0m\u001b[0;34m)\u001b[0m\u001b[0;34m)\u001b[0m \u001b[0;34m&\u001b[0m\u001b[0;34m\u001b[0m\u001b[0;34m\u001b[0m\u001b[0m\n\u001b[0m\u001b[1;32m      4\u001b[0m     \u001b[0;34m(\u001b[0m\u001b[0mcol\u001b[0m\u001b[0;34m(\u001b[0m\u001b[0;34m\"track_genre\"\u001b[0m\u001b[0;34m)\u001b[0m \u001b[0;34m==\u001b[0m \u001b[0;34m\"acoustic\"\u001b[0m\u001b[0;34m)\u001b[0m\u001b[0;34m\u001b[0m\u001b[0;34m\u001b[0m\u001b[0m\n\u001b[1;32m      5\u001b[0m \u001b[0;34m)\u001b[0m\u001b[0;34m\u001b[0m\u001b[0;34m\u001b[0m\u001b[0m\n\u001b[1;32m      6\u001b[0m \u001b[0;34m\u001b[0m\u001b[0m\n",
      "\u001b[0;32m~/Documents/USI/SEM1/DD&M/projects/A3/DdmSpark/.venv/lib/python3.12/site-packages/pyspark/sql/utils.py\u001b[0m in \u001b[0;36m?\u001b[0;34m(*args, **kwargs)\u001b[0m\n\u001b[1;32m    170\u001b[0m             \u001b[0;32mfrom\u001b[0m \u001b[0mpyspark\u001b[0m\u001b[0;34m.\u001b[0m\u001b[0msql\u001b[0m\u001b[0;34m.\u001b[0m\u001b[0mconnect\u001b[0m \u001b[0;32mimport\u001b[0m \u001b[0mfunctions\u001b[0m\u001b[0;34m\u001b[0m\u001b[0;34m\u001b[0m\u001b[0m\n\u001b[1;32m    171\u001b[0m \u001b[0;34m\u001b[0m\u001b[0m\n\u001b[1;32m    172\u001b[0m             \u001b[0;32mreturn\u001b[0m \u001b[0mgetattr\u001b[0m\u001b[0;34m(\u001b[0m\u001b[0mfunctions\u001b[0m\u001b[0;34m,\u001b[0m \u001b[0mf\u001b[0m\u001b[0;34m.\u001b[0m\u001b[0m__name__\u001b[0m\u001b[0;34m)\u001b[0m\u001b[0;34m(\u001b[0m\u001b[0;34m*\u001b[0m\u001b[0margs\u001b[0m\u001b[0;34m,\u001b[0m \u001b[0;34m**\u001b[0m\u001b[0mkwargs\u001b[0m\u001b[0;34m)\u001b[0m\u001b[0;34m\u001b[0m\u001b[0;34m\u001b[0m\u001b[0m\n\u001b[1;32m    173\u001b[0m         \u001b[0;32melse\u001b[0m\u001b[0;34m:\u001b[0m\u001b[0;34m\u001b[0m\u001b[0;34m\u001b[0m\u001b[0m\n\u001b[0;32m--> 174\u001b[0;31m             \u001b[0;32mreturn\u001b[0m \u001b[0mf\u001b[0m\u001b[0;34m(\u001b[0m\u001b[0;34m*\u001b[0m\u001b[0margs\u001b[0m\u001b[0;34m,\u001b[0m \u001b[0;34m**\u001b[0m\u001b[0mkwargs\u001b[0m\u001b[0;34m)\u001b[0m\u001b[0;34m\u001b[0m\u001b[0;34m\u001b[0m\u001b[0m\n\u001b[0m",
      "\u001b[0;32m~/Documents/USI/SEM1/DD&M/projects/A3/DdmSpark/.venv/lib/python3.12/site-packages/pyspark/sql/functions.py\u001b[0m in \u001b[0;36m?\u001b[0;34m(col)\u001b[0m\n\u001b[1;32m    219\u001b[0m     \u001b[0mColumn\u001b[0m\u001b[0;34m<\u001b[0m\u001b[0;34m'x'\u001b[0m\u001b[0;34m>\u001b[0m\u001b[0;34m\u001b[0m\u001b[0;34m\u001b[0m\u001b[0m\n\u001b[1;32m    220\u001b[0m     \u001b[0;34m>>\u001b[0m\u001b[0;34m>\u001b[0m \u001b[0mcolumn\u001b[0m\u001b[0;34m(\u001b[0m\u001b[0;34m'x'\u001b[0m\u001b[0;34m)\u001b[0m\u001b[0;34m\u001b[0m\u001b[0;34m\u001b[0m\u001b[0m\n\u001b[1;32m    221\u001b[0m     \u001b[0mColumn\u001b[0m\u001b[0;34m<\u001b[0m\u001b[0;34m'x'\u001b[0m\u001b[0;34m>\u001b[0m\u001b[0;34m\u001b[0m\u001b[0;34m\u001b[0m\u001b[0m\n\u001b[1;32m    222\u001b[0m     \"\"\"\n\u001b[0;32m--> 223\u001b[0;31m     \u001b[0;32mreturn\u001b[0m \u001b[0m_invoke_function\u001b[0m\u001b[0;34m(\u001b[0m\u001b[0;34m\"col\"\u001b[0m\u001b[0;34m,\u001b[0m \u001b[0mcol\u001b[0m\u001b[0;34m)\u001b[0m\u001b[0;34m\u001b[0m\u001b[0;34m\u001b[0m\u001b[0m\n\u001b[0m",
      "\u001b[0;32m~/Documents/USI/SEM1/DD&M/projects/A3/DdmSpark/.venv/lib/python3.12/site-packages/pyspark/sql/functions.py\u001b[0m in \u001b[0;36m?\u001b[0;34m(name, *args)\u001b[0m\n\u001b[1;32m     91\u001b[0m     \"\"\"\n\u001b[1;32m     92\u001b[0m     \u001b[0mInvokes\u001b[0m \u001b[0mJVM\u001b[0m \u001b[0mfunction\u001b[0m \u001b[0midentified\u001b[0m \u001b[0mby\u001b[0m \u001b[0mname\u001b[0m \u001b[0;32mwith\u001b[0m \u001b[0margs\u001b[0m\u001b[0;34m\u001b[0m\u001b[0;34m\u001b[0m\u001b[0m\n\u001b[1;32m     93\u001b[0m     \u001b[0;32mand\u001b[0m \u001b[0mwraps\u001b[0m \u001b[0mthe\u001b[0m \u001b[0mresult\u001b[0m \u001b[0;32mwith\u001b[0m \u001b[0;34m:\u001b[0m\u001b[0;32mclass\u001b[0m\u001b[0;34m:\u001b[0m\u001b[0;34m`\u001b[0m\u001b[0;34m~\u001b[0m\u001b[0mpyspark\u001b[0m\u001b[0;34m.\u001b[0m\u001b[0msql\u001b[0m\u001b[0;34m.\u001b[0m\u001b[0mColumn\u001b[0m\u001b[0;34m`\u001b[0m\u001b[0;34m.\u001b[0m\u001b[0;34m\u001b[0m\u001b[0;34m\u001b[0m\u001b[0m\n\u001b[1;32m     94\u001b[0m     \"\"\"\n\u001b[0;32m---> 95\u001b[0;31m     \u001b[0;32massert\u001b[0m \u001b[0mSparkContext\u001b[0m\u001b[0;34m.\u001b[0m\u001b[0m_active_spark_context\u001b[0m \u001b[0;32mis\u001b[0m \u001b[0;32mnot\u001b[0m \u001b[0;32mNone\u001b[0m\u001b[0;34m\u001b[0m\u001b[0;34m\u001b[0m\u001b[0m\n\u001b[0m\u001b[1;32m     96\u001b[0m     \u001b[0mjf\u001b[0m \u001b[0;34m=\u001b[0m \u001b[0m_get_jvm_function\u001b[0m\u001b[0;34m(\u001b[0m\u001b[0mname\u001b[0m\u001b[0;34m,\u001b[0m \u001b[0mSparkContext\u001b[0m\u001b[0;34m.\u001b[0m\u001b[0m_active_spark_context\u001b[0m\u001b[0;34m)\u001b[0m\u001b[0;34m\u001b[0m\u001b[0;34m\u001b[0m\u001b[0m\n\u001b[1;32m     97\u001b[0m     \u001b[0;32mreturn\u001b[0m \u001b[0mColumn\u001b[0m\u001b[0;34m(\u001b[0m\u001b[0mjf\u001b[0m\u001b[0;34m(\u001b[0m\u001b[0;34m*\u001b[0m\u001b[0margs\u001b[0m\u001b[0;34m)\u001b[0m\u001b[0;34m)\u001b[0m\u001b[0;34m\u001b[0m\u001b[0;34m\u001b[0m\u001b[0m\n",
      "\u001b[0;31mAssertionError\u001b[0m: "
     ]
    }
   ],
   "source": [
    "# Filter for 'Jason Mraz' in the artist column and 'acoustic' in the genre column\n",
    "filtered_df = df.filter(\n",
    "    (col(\"artists\").like(\"Bad Bunny\")) & \n",
    "    (col(\"track_genre\") == \"acoustic\")\n",
    ")\n",
    "\n",
    "# Select the 'danceability' column and calculate the average, minimum, and maximum\n",
    "aggregated_df = filtered_df.agg(\n",
    "    avg(\"danceability\").alias(\"avg_danceability\"),\n",
    "    min(\"danceability\").alias(\"min_danceability\"),\n",
    "    max(\"danceability\").alias(\"max_danceability\")\n",
    ")\n",
    "\n",
    "# Show the results\n",
    "aggregated_df.show()\n",
    "\n",
    "# Stop the SparkSession\n",
    "spark.stop()"
   ]
  },
  {
   "cell_type": "markdown",
   "metadata": {},
   "source": [
    "### Python Query 2: Explicit Authors\n",
    "This query aims to find all the authors that have published at least an explicit song.\\\n",
    "They are then sorted by the number of explicit songs published."
   ]
  },
  {
   "cell_type": "code",
   "execution_count": 29,
   "metadata": {},
   "outputs": [
    {
     "name": "stdout",
     "output_type": "stream",
     "text": [
      "+--------------------+--------------+\n",
      "|             artists|explicit_count|\n",
      "+--------------------+--------------+\n",
      "|         Jack Harlow|            71|\n",
      "|    Jhayco;Bad Bunny|            64|\n",
      "|      Marilyn Manson|            61|\n",
      "|        XXXTENTACION|            59|\n",
      "|Daddy Yankee;Bad ...|            58|\n",
      "|         Vybz Kartel|            54|\n",
      "|             Asspera|            51|\n",
      "|              Jhayco|            46|\n",
      "|     Alejo;Feid;ROBI|            44|\n",
      "|                Feid|            43|\n",
      "|                 Jax|            38|\n",
      "|Five Finger Death...|            37|\n",
      "|Bring Me The Horizon|            36|\n",
      "|Chris Jedi;Anuel ...|            33|\n",
      "|             KAROL G|            33|\n",
      "|             Pantera|            32|\n",
      "|           blink-182|            32|\n",
      "|         Chronic Law|            31|\n",
      "|          Burgerkill|            29|\n",
      "|    Kathleen Madigan|            29|\n",
      "+--------------------+--------------+\n",
      "only showing top 20 rows\n",
      "\n"
     ]
    }
   ],
   "source": [
    "from pyspark.sql.functions import col, count\n",
    "# Put query here FRUAH\n",
    "result = (\n",
    "    df.filter(col('explicit') == True)  # Filter for explicit songs\n",
    "    .groupBy('artists')  # Group by artists\n",
    "    .agg(count('track_id').alias('explicit_count'))  # Count the number of explicit songs for each artist\n",
    "    .orderBy(col('explicit_count').desc(), 'artists')  # Sort by explicit count in descending order, then alphabetically\n",
    ")\n",
    "\n",
    "result.show()"
   ]
  },
  {
   "cell_type": "markdown",
   "metadata": {},
   "source": [
    "### Python Query 3: Query Name"
   ]
  },
  {
   "cell_type": "code",
   "execution_count": null,
   "metadata": {},
   "outputs": [],
   "source": [
    "# Put query here LOLLO"
   ]
  },
  {
   "cell_type": "markdown",
   "metadata": {},
   "source": [
    "### Python Query 4: Best Danceable Dance Songs\n",
    "\n",
    "This query aims to find all the danceable songs that are not explicit.\\\n",
    "It only shows the songs that have a danceability that's more than 0.8.\n"
   ]
  },
  {
   "cell_type": "code",
   "execution_count": 39,
   "metadata": {},
   "outputs": [
    {
     "name": "stdout",
     "output_type": "stream",
     "text": [
      "+--------------------------------+------------+\n",
      "|track_name                      |danceability|\n",
      "+--------------------------------+------------+\n",
      "|Mentally Free                   |0.975       |\n",
      "|Afrowave 2                      |0.966       |\n",
      "|Queda poco para la PAES         |0.965       |\n",
      "|King of Parole                  |0.961       |\n",
      "|Loaded                          |0.961       |\n",
      "|Money Dance                     |0.958       |\n",
      "|The Trinity                     |0.951       |\n",
      "|The Trinity                     |0.951       |\n",
      "|Temperature                     |0.951       |\n",
      "|The Trinity                     |0.95        |\n",
      "|No Reservations                 |0.948       |\n",
      "|Bunx Up (feat. Marcy Chin)      |0.947       |\n",
      "|Bunx Up [The Official Street LP]|0.944       |\n",
      "|Banga                           |0.943       |\n",
      "|Find It                         |0.94        |\n",
      "|Play Tune (So so So)            |0.935       |\n",
      "|Pa' mayores de edad             |0.931       |\n",
      "|Retro 13 (Special Dj Greg C)    |0.931       |\n",
      "|Yahoo Boyz                      |0.931       |\n",
      "|Fatty Boom Boom (Boom It!)      |0.928       |\n",
      "+--------------------------------+------------+\n",
      "only showing top 20 rows\n",
      "\n"
     ]
    },
    {
     "name": "stderr",
     "output_type": "stream",
     "text": [
      "23/12/15 13:51:49 WARN CSVHeaderChecker: CSV header does not conform to the schema.\n",
      " Header: album_name, explicit, danceability, track_genre\n",
      " Schema: track_name, explicit, danceability, track_genre\n",
      "Expected: track_name but found: album_name\n",
      "CSV file: file:///Users/casarf/Documents/USI/Master/semester1/DataDesign/assignment3/spark_sus/data/spotify_tracks_genre.csv\n"
     ]
    }
   ],
   "source": [
    "genre = 'dance'  # Replace 'dance' with your desired genre\n",
    "\n",
    "result = (\n",
    "    df.filter(\n",
    "        (col('explicit') == False) & \n",
    "        (col('danceability') > 0.8) & \n",
    "        (col('track_genre').contains(genre))\n",
    "    )  # Filter for non-explicit dance songs with danceability > 0.8 and specific genre\n",
    "    .select('track_name', 'danceability')  # Select only 'track_name' and 'danceability' columns\n",
    "    .orderBy('danceability', ascending=False)  # Sort by danceability in descending order\n",
    ")\n",
    "\n",
    "result.show(truncate=False)"
   ]
  },
  {
   "cell_type": "markdown",
   "metadata": {},
   "source": [
    "### Python Query 5: Query Name"
   ]
  },
  {
   "cell_type": "code",
   "execution_count": null,
   "metadata": {},
   "outputs": [],
   "source": [
    "# Put query here LOLLO"
   ]
  },
  {
   "cell_type": "markdown",
   "metadata": {},
   "source": [
    "### SQL Queries"
   ]
  },
  {
   "cell_type": "markdown",
   "metadata": {},
   "source": [
    "### SQL Query 1: Top 5 Longest Albums in Dataset\n",
    "This query aims to find the top 5 longest albums in the Dataset.\\\n",
    "At first the songs are grouped by their album name, then the duration time of each song is summed up.\\\n",
    "Then the top 5 are showed and sorted in a Descending order."
   ]
  },
  {
   "cell_type": "code",
   "execution_count": 38,
   "metadata": {},
   "outputs": [
    {
     "name": "stderr",
     "output_type": "stream",
     "text": [
      "23/12/15 13:44:12 WARN CSVHeaderChecker: CSV header does not conform to the schema.\n",
      " Header: track_name, duration_ms\n",
      " Schema: album_name, duration_ms\n",
      "Expected: album_name but found: track_name\n",
      "CSV file: file:///Users/casarf/Documents/USI/Master/semester1/DataDesign/assignment3/spark_sus/data/spotify_tracks_genre.csv\n"
     ]
    },
    {
     "name": "stdout",
     "output_type": "stream",
     "text": [
      "+----------------------+--------------+\n",
      "|album_name            |total_duration|\n",
      "+----------------------+--------------+\n",
      "|Run Rudolph Run       |24605335      |\n",
      "|Christmas Time        |16785840      |\n",
      "|Halloween             |16031062      |\n",
      "|RUMBATÓN              |14926080      |\n",
      "|CÓMO SE SIENTE - Remix|14561280      |\n",
      "+----------------------+--------------+\n",
      "\n"
     ]
    }
   ],
   "source": [
    "from pyspark.sql import SparkSession\n",
    "\n",
    "# Register the DataFrame as a temporary SQL table\n",
    "df.createOrReplaceTempView(\"spotify_genre_table\")\n",
    "\n",
    "# SQL query to identify albums with the longest total duration\n",
    "sql_query = \"\"\"\n",
    "    SELECT album_name, SUM(duration_ms) AS total_duration\n",
    "    FROM spotify_genre_table\n",
    "    GROUP BY album_name\n",
    "    ORDER BY total_duration DESC\n",
    "    LIMIT 5\n",
    "\"\"\"\n",
    "\n",
    "# Execute the SQL query\n",
    "result = spark.sql(sql_query)\n",
    "\n",
    "result.show(truncate=False)"
   ]
  },
  {
   "cell_type": "markdown",
   "metadata": {},
   "source": [
    "### SQL Query 2: Query Name"
   ]
  },
  {
   "cell_type": "code",
   "execution_count": null,
   "metadata": {},
   "outputs": [],
   "source": [
    "# Put query here LOLLO"
   ]
  },
  {
   "cell_type": "markdown",
   "metadata": {},
   "source": [
    "### SQL Query 3: Top 5 Popular Genres\n",
    "\n",
    "This query aims to find the top 5 genres by popularity.\\\n",
    "At first it groups all the songs by genre and computes the average popularity.\n",
    "Then genres are sorted by popularity in descending order."
   ]
  },
  {
   "cell_type": "code",
   "execution_count": 40,
   "metadata": {},
   "outputs": [
    {
     "name": "stdout",
     "output_type": "stream",
     "text": [
      "+-----------+------------------+\n",
      "|track_genre|avg_popularity    |\n",
      "+-----------+------------------+\n",
      "|pop-film   |59.287575150300604|\n",
      "|k-pop      |56.896            |\n",
      "|chill      |53.651            |\n",
      "|sad        |52.379            |\n",
      "|grunge     |49.594            |\n",
      "+-----------+------------------+\n",
      "\n"
     ]
    }
   ],
   "source": [
    "# Put query here FRUAH\n",
    "df.createOrReplaceTempView(\"spotify_genre_table\")\n",
    "\n",
    "# SQL query to identify albums with the longest total duration\n",
    "sql_query = \"\"\"\n",
    "    SELECT track_genre, AVG(popularity) AS avg_popularity\n",
    "    FROM spotify_genre_table\n",
    "    GROUP BY track_genre\n",
    "    ORDER BY avg_popularity DESC\n",
    "    LIMIT 5\n",
    "\"\"\"\n",
    "# Execute the SQL query\n",
    "result = spark.sql(sql_query)\n",
    "\n",
    "result.show(truncate=False)\n"
   ]
  }
 ],
 "metadata": {
  "kernelspec": {
   "display_name": ".venv",
   "language": "python",
   "name": "python3"
  },
  "language_info": {
   "codemirror_mode": {
    "name": "ipython",
    "version": 3
   },
   "file_extension": ".py",
   "mimetype": "text/x-python",
   "name": "python",
   "nbconvert_exporter": "python",
   "pygments_lexer": "ipython3",
   "version": "3.11.6"
  }
 },
 "nbformat": 4,
 "nbformat_minor": 2
}
